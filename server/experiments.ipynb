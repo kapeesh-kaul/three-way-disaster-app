{
 "cells": [
  {
   "cell_type": "markdown",
   "metadata": {},
   "source": [
    "# CS716: Communications in Data Science\n",
    "#### Study on three-way decisions in Disaster Management\n",
    "github-link: https://github.com/kapeesh-kaul/three-way-disaster-app\n",
    "\n",
    "## Week 1: Data Collection\n",
    "For the first week, we will be collecting data from the following sources:\n",
    "- Google Scholar\n",
    "- IEEE Xplore\n",
    "- ACM Digital Library\n",
    "- SpringerLink\n",
    "- Scopus\n",
    "- ResearchGate\n",
    "\n",
    "We have collected 95 Such papers that talk about 3-way-decisions and disaster management. The papers are stored in the `data` folder in the root directory of the repository.\n"
   ]
  },
  {
   "cell_type": "markdown",
   "metadata": {},
   "source": [
    "Since we saved the paper links in the bookmarks tab, we used chrome's feature to export the bookmarks to an HTML file. \n",
    "We then will use BeautifulSoup to parse the HTML file and extract the required information. \n",
    "The information extracted will include the title, authors, publication date, and the abstract of the paper. \n",
    "We then will store this information in a .csv file for further analysis."
   ]
  },
  {
   "cell_type": "code",
   "execution_count": 2,
   "metadata": {},
   "outputs": [],
   "source": [
    "from ExtractLinks import extract_links\n",
    "\n",
    "paper_details = extract_links(file_path='data/papers_dataset.html')"
   ]
  },
  {
   "cell_type": "code",
   "execution_count": 3,
   "metadata": {},
   "outputs": [],
   "source": [
    "import pandas as pd\n",
    "\n",
    "pd.DataFrame(paper_details, columns = ['links', 'title']).to_csv('data/papers.csv', index = False)"
   ]
  },
  {
   "cell_type": "code",
   "execution_count": 5,
   "metadata": {},
   "outputs": [
    {
     "name": "stdout",
     "output_type": "stream",
     "text": [
      "Number of papers: 95 \n",
      "\n"
     ]
    },
    {
     "data": {
      "text/html": [
       "<div>\n",
       "<style scoped>\n",
       "    .dataframe tbody tr th:only-of-type {\n",
       "        vertical-align: middle;\n",
       "    }\n",
       "\n",
       "    .dataframe tbody tr th {\n",
       "        vertical-align: top;\n",
       "    }\n",
       "\n",
       "    .dataframe thead th {\n",
       "        text-align: right;\n",
       "    }\n",
       "</style>\n",
       "<table border=\"1\" class=\"dataframe\">\n",
       "  <thead>\n",
       "    <tr style=\"text-align: right;\">\n",
       "      <th></th>\n",
       "      <th>links</th>\n",
       "      <th>title</th>\n",
       "    </tr>\n",
       "  </thead>\n",
       "  <tbody>\n",
       "    <tr>\n",
       "      <th>0</th>\n",
       "      <td>https://pdf.sciencedirectassets.com/271647/1-s...</td>\n",
       "      <td>Assessing the effectiveness of a three-way dec...</td>\n",
       "    </tr>\n",
       "    <tr>\n",
       "      <th>1</th>\n",
       "      <td>https://www.nature.com/articles/s41598-023-490...</td>\n",
       "      <td>Three-way group decisions using evidence theor...</td>\n",
       "    </tr>\n",
       "    <tr>\n",
       "      <th>2</th>\n",
       "      <td>https://link.springer.com/article/10.1007/s104...</td>\n",
       "      <td>A three-way decision method with tolerance dom...</td>\n",
       "    </tr>\n",
       "    <tr>\n",
       "      <th>3</th>\n",
       "      <td>https://link.springer.com/article/10.1007/s108...</td>\n",
       "      <td>Cost-sensitive three-way email spam filtering ...</td>\n",
       "    </tr>\n",
       "    <tr>\n",
       "      <th>4</th>\n",
       "      <td>https://www.integrify.com/decision-table-examp...</td>\n",
       "      <td>3 Decision Table Examples and Use Cases</td>\n",
       "    </tr>\n",
       "  </tbody>\n",
       "</table>\n",
       "</div>"
      ],
      "text/plain": [
       "                                               links  \\\n",
       "0  https://pdf.sciencedirectassets.com/271647/1-s...   \n",
       "1  https://www.nature.com/articles/s41598-023-490...   \n",
       "2  https://link.springer.com/article/10.1007/s104...   \n",
       "3  https://link.springer.com/article/10.1007/s108...   \n",
       "4  https://www.integrify.com/decision-table-examp...   \n",
       "\n",
       "                                               title  \n",
       "0  Assessing the effectiveness of a three-way dec...  \n",
       "1  Three-way group decisions using evidence theor...  \n",
       "2  A three-way decision method with tolerance dom...  \n",
       "3  Cost-sensitive three-way email spam filtering ...  \n",
       "4            3 Decision Table Examples and Use Cases  "
      ]
     },
     "execution_count": 5,
     "metadata": {},
     "output_type": "execute_result"
    }
   ],
   "source": [
    "papers = pd.read_csv('data/papers.csv')\n",
    "print(f'Number of papers: {len(papers)}', '\\n')\n",
    "papers.head()"
   ]
  },
  {
   "cell_type": "markdown",
   "metadata": {},
   "source": [
    "In the next steps, we will go through the papers to extract key points from the paper and generate insights from the data collected."
   ]
  }
 ],
 "metadata": {
  "kernelspec": {
   "display_name": "venv",
   "language": "python",
   "name": "python3"
  },
  "language_info": {
   "codemirror_mode": {
    "name": "ipython",
    "version": 3
   },
   "file_extension": ".py",
   "mimetype": "text/x-python",
   "name": "python",
   "nbconvert_exporter": "python",
   "pygments_lexer": "ipython3",
   "version": "3.12.6"
  }
 },
 "nbformat": 4,
 "nbformat_minor": 2
}
