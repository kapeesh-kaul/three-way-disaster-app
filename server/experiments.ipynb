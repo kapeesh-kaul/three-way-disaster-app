{
 "cells": [
  {
   "cell_type": "code",
   "execution_count": 3,
   "metadata": {},
   "outputs": [],
   "source": [
    "from ExtractLinks import extract_links\n",
    "\n",
    "paper_details = extract_links(file_path='data/papers_dataset.html')"
   ]
  },
  {
   "cell_type": "code",
   "execution_count": 7,
   "metadata": {
    "vscode": {
     "languageId": "ruby"
    }
   },
   "outputs": [
    {
     "data": {
      "text/html": [
       "<div>\n",
       "<style scoped>\n",
       "    .dataframe tbody tr th:only-of-type {\n",
       "        vertical-align: middle;\n",
       "    }\n",
       "\n",
       "    .dataframe tbody tr th {\n",
       "        vertical-align: top;\n",
       "    }\n",
       "\n",
       "    .dataframe thead th {\n",
       "        text-align: right;\n",
       "    }\n",
       "</style>\n",
       "<table border=\"1\" class=\"dataframe\">\n",
       "  <thead>\n",
       "    <tr style=\"text-align: right;\">\n",
       "      <th></th>\n",
       "      <th>links</th>\n",
       "      <th>title</th>\n",
       "    </tr>\n",
       "  </thead>\n",
       "  <tbody>\n",
       "    <tr>\n",
       "      <th>0</th>\n",
       "      <td>https://pdf.sciencedirectassets.com/271647/1-s...</td>\n",
       "      <td>Assessing the effectiveness of a three-way dec...</td>\n",
       "    </tr>\n",
       "    <tr>\n",
       "      <th>1</th>\n",
       "      <td>https://www.nature.com/articles/s41598-023-490...</td>\n",
       "      <td>Three-way group decisions using evidence theor...</td>\n",
       "    </tr>\n",
       "    <tr>\n",
       "      <th>2</th>\n",
       "      <td>https://link.springer.com/article/10.1007/s104...</td>\n",
       "      <td>A three-way decision method with tolerance dom...</td>\n",
       "    </tr>\n",
       "    <tr>\n",
       "      <th>3</th>\n",
       "      <td>https://link.springer.com/article/10.1007/s108...</td>\n",
       "      <td>Cost-sensitive three-way email spam filtering ...</td>\n",
       "    </tr>\n",
       "    <tr>\n",
       "      <th>4</th>\n",
       "      <td>https://www.integrify.com/decision-table-examp...</td>\n",
       "      <td>3 Decision Table Examples and Use Cases</td>\n",
       "    </tr>\n",
       "    <tr>\n",
       "      <th>...</th>\n",
       "      <td>...</td>\n",
       "      <td>...</td>\n",
       "    </tr>\n",
       "    <tr>\n",
       "      <th>90</th>\n",
       "      <td>https://www.researchgate.net/publication/36462...</td>\n",
       "      <td>Why They Escape: Mining Prioritized Fuzzy Deci...</td>\n",
       "    </tr>\n",
       "    <tr>\n",
       "      <th>91</th>\n",
       "      <td>https://www.researchgate.net/publication/37153...</td>\n",
       "      <td>Evacuation decision making and risk perception...</td>\n",
       "    </tr>\n",
       "    <tr>\n",
       "      <th>92</th>\n",
       "      <td>https://www.researchgate.net/publication/37102...</td>\n",
       "      <td>A Model for Making Dynamic Collective Decision...</td>\n",
       "    </tr>\n",
       "    <tr>\n",
       "      <th>93</th>\n",
       "      <td>https://www.researchgate.net/publication/35519...</td>\n",
       "      <td>Modeling Evacuation Decisions in the 2019 Kinc...</td>\n",
       "    </tr>\n",
       "    <tr>\n",
       "      <th>94</th>\n",
       "      <td>https://www.researchgate.net/publication/37173...</td>\n",
       "      <td>Evacuation Decisions during the Great East Jap...</td>\n",
       "    </tr>\n",
       "  </tbody>\n",
       "</table>\n",
       "<p>95 rows × 2 columns</p>\n",
       "</div>"
      ],
      "text/plain": [
       "                                                links  \\\n",
       "0   https://pdf.sciencedirectassets.com/271647/1-s...   \n",
       "1   https://www.nature.com/articles/s41598-023-490...   \n",
       "2   https://link.springer.com/article/10.1007/s104...   \n",
       "3   https://link.springer.com/article/10.1007/s108...   \n",
       "4   https://www.integrify.com/decision-table-examp...   \n",
       "..                                                ...   \n",
       "90  https://www.researchgate.net/publication/36462...   \n",
       "91  https://www.researchgate.net/publication/37153...   \n",
       "92  https://www.researchgate.net/publication/37102...   \n",
       "93  https://www.researchgate.net/publication/35519...   \n",
       "94  https://www.researchgate.net/publication/37173...   \n",
       "\n",
       "                                                title  \n",
       "0   Assessing the effectiveness of a three-way dec...  \n",
       "1   Three-way group decisions using evidence theor...  \n",
       "2   A three-way decision method with tolerance dom...  \n",
       "3   Cost-sensitive three-way email spam filtering ...  \n",
       "4             3 Decision Table Examples and Use Cases  \n",
       "..                                                ...  \n",
       "90  Why They Escape: Mining Prioritized Fuzzy Deci...  \n",
       "91  Evacuation decision making and risk perception...  \n",
       "92  A Model for Making Dynamic Collective Decision...  \n",
       "93  Modeling Evacuation Decisions in the 2019 Kinc...  \n",
       "94  Evacuation Decisions during the Great East Jap...  \n",
       "\n",
       "[95 rows x 2 columns]"
      ]
     },
     "execution_count": 7,
     "metadata": {},
     "output_type": "execute_result"
    }
   ],
   "source": [
    "import pandas as pd\n",
    "\n",
    "pd.DataFrame(paper_details, columns = ['links', 'title'])"
   ]
  },
  {
   "cell_type": "code",
   "execution_count": null,
   "metadata": {
    "vscode": {
     "languageId": "ruby"
    }
   },
   "outputs": [],
   "source": []
  }
 ],
 "metadata": {
  "kernelspec": {
   "display_name": "venv",
   "language": "python",
   "name": "python3"
  },
  "language_info": {
   "codemirror_mode": {
    "name": "ipython",
    "version": 3
   },
   "file_extension": ".py",
   "mimetype": "text/x-python",
   "name": "python",
   "nbconvert_exporter": "python",
   "pygments_lexer": "ipython3",
   "version": "3.12.6"
  }
 },
 "nbformat": 4,
 "nbformat_minor": 2
}
