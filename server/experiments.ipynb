{
 "cells": [
  {
   "cell_type": "markdown",
   "metadata": {},
   "source": [
    "# CS716: Communications in Data Science\n",
    "#### Study on three-way decisions in Disaster Management\n",
    "github-link: https://github.com/kapeesh-kaul/three-way-disaster-app\n",
    "\n",
    "## Week 1: Data Collection\n",
    "For the first week, we will be collecting data from the following sources:\n",
    "- Google Scholar\n",
    "- IEEE Xplore\n",
    "- ACM Digital Library\n",
    "- SpringerLink\n",
    "- Scopus\n",
    "- ResearchGate\n",
    "\n",
    "We have collected 95 Such papers that talk about 3-way-decisions and disaster management. The papers are stored in the `data` folder in the root directory of the repository.\n"
   ]
  },
  {
   "cell_type": "markdown",
   "metadata": {},
   "source": [
    "Since we saved the paper links in the bookmarks tab, we used chrome's feature to export the bookmarks to an HTML file. \n",
    "We then will use BeautifulSoup to parse the HTML file and extract the required information. \n",
    "The information extracted will include the title, authors, publication date, and the abstract of the paper. \n",
    "We then will store this information in a .csv file for further analysis."
   ]
  },
  {
   "cell_type": "code",
   "execution_count": 3,
   "metadata": {},
   "outputs": [],
   "source": [
    "from ExtractLinks import extract_links\n",
    "\n",
    "paper_details = extract_links(file_path='data/papers_dataset.html')"
   ]
  },
  {
   "cell_type": "code",
   "execution_count": 8,
   "metadata": {},
   "outputs": [],
   "source": [
    "import pandas as pd\n",
    "\n",
    "pd.DataFrame(paper_details, columns = ['links', 'title']).to_csv('data/papers.csv', index = False)"
   ]
  }
 ],
 "metadata": {
  "kernelspec": {
   "display_name": "venv",
   "language": "python",
   "name": "python3"
  },
  "language_info": {
   "codemirror_mode": {
    "name": "ipython",
    "version": 3
   },
   "file_extension": ".py",
   "mimetype": "text/x-python",
   "name": "python",
   "nbconvert_exporter": "python",
   "pygments_lexer": "ipython3",
   "version": "3.12.6"
  }
 },
 "nbformat": 4,
 "nbformat_minor": 2
}
